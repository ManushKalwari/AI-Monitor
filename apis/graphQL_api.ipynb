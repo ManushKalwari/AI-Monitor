{
 "cells": [
  {
   "cell_type": "code",
   "execution_count": null,
   "id": "918a5b7e",
   "metadata": {},
   "outputs": [],
   "source": [
    "!pip install fastapi graphene starlette-graphene3 uvicorn"
   ]
  },
  {
   "cell_type": "code",
   "execution_count": null,
   "id": "01874a5c",
   "metadata": {},
   "outputs": [],
   "source": [
    "from fastapi import FASTAPI \n",
    "from starlette_graphene3 import GraphQLApp\n",
    "import graphene\n",
    "\n",
    "# define graphQL schema\n",
    "class User(graphene.ObjectType):\n",
    "    id = graphene.ID()\n",
    "    name = graphene.String()\n",
    "\n",
    "\n",
    "# in-memory mock database\n",
    "users = {\n",
    "    '1': {'id': '1', 'name': 'Alice'},\n",
    "    '2': {'id': '2', 'name': 'Bob'}\n",
    "    }\n",
    "\n",
    "# query: read-only\n",
    "class Query(graphene.ObjectType):\n",
    "    user = graphene.Field(User, id=graphene.ID(requires=True))\n",
    "\n",
    "    def resolve_user(root, info, id):\n",
    "        return users.get(id)\n",
    "\n",
    "# mutation: write/update\n",
    "class CreateUser(graphene.Mutation):\n",
    "    class Arguments:\n",
    "        id = graphene.ID()\n",
    "        name = graphene.String()\n",
    "\n",
    "    ok = graphene.Boolean()\n",
    "    user = graphene.Field(User)\n",
    "\n",
    "    def mutate(root, info, id, name):\n",
    "        user = {'id':id, 'name':name}\n",
    "        users[id] = user\n",
    "        return CreateUser(user=user, ok=True)\n",
    "\n",
    "\n",
    "\n",
    "class Mutation(graphene.ObjectType):\n",
    "    create_user = CreateUser.Field()\n",
    "\n",
    "\n",
    "\n",
    "# assemble scheme\n",
    "app = FastAPI()\n",
    "app.add_route('/graphql', GraphQLApp(schema=graphene.Schema(query=Query, mutation=Mutation)))\n"
   ]
  }
 ],
 "metadata": {
  "language_info": {
   "name": "python"
  }
 },
 "nbformat": 4,
 "nbformat_minor": 5
}
