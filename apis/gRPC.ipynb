{
 "cells": [
  {
   "cell_type": "code",
   "execution_count": null,
   "id": "3e83e383",
   "metadata": {},
   "outputs": [],
   "source": [
    "!pip install grpcio grpcio-tools"
   ]
  },
  {
   "cell_type": "code",
   "execution_count": null,
   "id": "0a3280f3",
   "metadata": {},
   "outputs": [],
   "source": [
    "import grpc\n",
    "from concurrent import futures\n",
    "import user_pb2\n",
    "import user_pb2_grpc\n",
    "\n",
    "# in-memory store\n",
    "users={}\n",
    "\n",
    "class UserService(user_pb2_grpc.UserServiceServicer):\n",
    "    def CreateUser(self, request, context):\n",
    "        user[request.id] = request.name\n",
    "        return user_pb2.UserResponse(id=request.id, name=request.name)\n",
    "\n",
    "    def GetUser(self, request, context):\n",
    "        name = users.get(request.id, \"\")\n",
    "        return user_pb2.UserResponse(id=request.id, name=name)\n",
    "\n",
    "\n",
    "server = grpc.server(futures.ThreadPoolExecutor(max_workers=10))\n",
    "user_pb2_grpc.add_UserServiceServicer_to_server(UserService(), server)\n",
    "server.add_insecure_port('[::],50051')\n",
    "server.start()\n",
    "print('gRPC server running....')\n",
    "server.wait_for_termination()"
   ]
  },
  {
   "cell_type": "code",
   "execution_count": null,
   "id": "a3ee743d",
   "metadata": {},
   "outputs": [],
   "source": []
  }
 ],
 "metadata": {
  "language_info": {
   "name": "python"
  }
 },
 "nbformat": 4,
 "nbformat_minor": 5
}
