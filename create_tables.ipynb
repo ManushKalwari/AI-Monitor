{
 "cells": [
  {
   "cell_type": "code",
   "execution_count": 1,
   "id": "51de2967",
   "metadata": {},
   "outputs": [
    {
     "name": "stdout",
     "output_type": "stream",
     "text": [
      "c:\\Users\\Manush\\AppData\\Local\\Programs\\Python\\Python312\\python.exe\n",
      "tables created successfully\n"
     ]
    }
   ],
   "source": [
    "from db import Base, engine\n",
    "\n",
    "Base.metadata.create_all(bind=engine)\n",
    "\n",
    "print('tables created successfully')"
   ]
  }
 ],
 "metadata": {
  "kernelspec": {
   "display_name": "Python 3",
   "language": "python",
   "name": "python3"
  },
  "language_info": {
   "codemirror_mode": {
    "name": "ipython",
    "version": 3
   },
   "file_extension": ".py",
   "mimetype": "text/x-python",
   "name": "python",
   "nbconvert_exporter": "python",
   "pygments_lexer": "ipython3",
   "version": "3.12.9"
  }
 },
 "nbformat": 4,
 "nbformat_minor": 5
}
